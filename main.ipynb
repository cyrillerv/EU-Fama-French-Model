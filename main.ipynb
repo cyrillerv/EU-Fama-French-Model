{
 "cells": [
  {
   "cell_type": "code",
   "execution_count": null,
   "id": "86c6554c",
   "metadata": {},
   "outputs": [],
   "source": []
  },
  {
   "cell_type": "markdown",
   "id": "0b67c627",
   "metadata": {},
   "source": [
    "# 1. Load data     \n",
    "Data needed :    \n",
    "- stock prices"
   ]
  },
  {
   "cell_type": "code",
   "execution_count": null,
   "id": "f025af1b",
   "metadata": {},
   "outputs": [],
   "source": []
  }
 ],
 "metadata": {
  "kernelspec": {
   "display_name": "venv",
   "language": "python",
   "name": "python3"
  },
  "language_info": {
   "name": "python",
   "version": "3.12.0"
  }
 },
 "nbformat": 4,
 "nbformat_minor": 5
}
